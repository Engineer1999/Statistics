{
 "cells": [
  {
   "cell_type": "markdown",
   "metadata": {},
   "source": [
    "# Testing Proportions II: K Proportions\n",
    "Source: https://web.williams.edu/Mathematics/sjmiller/public_html/BrownClasses/162/Handouts/StatsTests04.pdf"
   ]
  },
  {
   "cell_type": "code",
   "execution_count": 1,
   "metadata": {},
   "outputs": [],
   "source": [
    "import numpy as np\n",
    "import pandas as pd\n",
    "from scipy.stats import chi2"
   ]
  },
  {
   "cell_type": "code",
   "execution_count": 2,
   "metadata": {},
   "outputs": [],
   "source": [
    "#create toy data\n",
    "math = np.random.binomial(1, 0.58, 600)\n",
    "coding  = np.random.binomial(1, 0.51, 800)\n",
    "econ  = np.random.binomial(1, 0.55, 600)"
   ]
  },
  {
   "cell_type": "code",
   "execution_count": 3,
   "metadata": {},
   "outputs": [
    {
     "name": "stdout",
     "output_type": "stream",
     "text": [
      "math mean: 0.545\n",
      "coding mean: 0.49125\n",
      "econ mean: 0.5316666666666666\n"
     ]
    }
   ],
   "source": [
    "#combine in dict\n",
    "udemy_dict = {'math': math, 'coding': coding, 'econ': econ}\n",
    "for key in udemy_dict:\n",
    "    print(\"{} mean: {}\".format(key, np.mean(udemy_dict[key])))"
   ]
  },
  {
   "cell_type": "code",
   "execution_count": 4,
   "metadata": {},
   "outputs": [
    {
     "data": {
      "text/html": [
       "<div>\n",
       "<style scoped>\n",
       "    .dataframe tbody tr th:only-of-type {\n",
       "        vertical-align: middle;\n",
       "    }\n",
       "\n",
       "    .dataframe tbody tr th {\n",
       "        vertical-align: top;\n",
       "    }\n",
       "\n",
       "    .dataframe thead th {\n",
       "        text-align: right;\n",
       "    }\n",
       "</style>\n",
       "<table border=\"1\" class=\"dataframe\">\n",
       "  <thead>\n",
       "    <tr style=\"text-align: right;\">\n",
       "      <th></th>\n",
       "      <th>math</th>\n",
       "      <th>coding</th>\n",
       "      <th>econ</th>\n",
       "    </tr>\n",
       "  </thead>\n",
       "  <tbody>\n",
       "    <tr>\n",
       "      <th>0</th>\n",
       "      <td>1.0</td>\n",
       "      <td>0.0</td>\n",
       "      <td>0.0</td>\n",
       "    </tr>\n",
       "    <tr>\n",
       "      <th>1</th>\n",
       "      <td>1.0</td>\n",
       "      <td>1.0</td>\n",
       "      <td>1.0</td>\n",
       "    </tr>\n",
       "    <tr>\n",
       "      <th>2</th>\n",
       "      <td>0.0</td>\n",
       "      <td>1.0</td>\n",
       "      <td>0.0</td>\n",
       "    </tr>\n",
       "    <tr>\n",
       "      <th>3</th>\n",
       "      <td>1.0</td>\n",
       "      <td>0.0</td>\n",
       "      <td>0.0</td>\n",
       "    </tr>\n",
       "    <tr>\n",
       "      <th>4</th>\n",
       "      <td>NaN</td>\n",
       "      <td>1.0</td>\n",
       "      <td>NaN</td>\n",
       "    </tr>\n",
       "  </tbody>\n",
       "</table>\n",
       "</div>"
      ],
      "text/plain": [
       "   math  coding  econ\n",
       "0   1.0     0.0   0.0\n",
       "1   1.0     1.0   1.0\n",
       "2   0.0     1.0   0.0\n",
       "3   1.0     0.0   0.0\n",
       "4   NaN     1.0   NaN"
      ]
     },
     "execution_count": 4,
     "metadata": {},
     "output_type": "execute_result"
    }
   ],
   "source": [
    "#orient by index then transpose to avoid same length error\n",
    "df = pd.DataFrame.from_dict(udemy_dict, orient='index').T\n",
    "#shuffle for randomness\n",
    "df = df.sample(frac=1.0).reset_index(drop=True)\n",
    "df.head()"
   ]
  },
  {
   "cell_type": "code",
   "execution_count": 5,
   "metadata": {},
   "outputs": [
    {
     "data": {
      "text/plain": [
       "math      0.545000\n",
       "coding    0.491250\n",
       "econ      0.531667\n",
       "dtype: float64"
      ]
     },
     "execution_count": 5,
     "metadata": {},
     "output_type": "execute_result"
    }
   ],
   "source": [
    "df.mean()"
   ]
  },
  {
   "cell_type": "code",
   "execution_count": 6,
   "metadata": {},
   "outputs": [
    {
     "data": {
      "text/plain": [
       "math      600\n",
       "coding    800\n",
       "econ      600\n",
       "dtype: int64"
      ]
     },
     "execution_count": 6,
     "metadata": {},
     "output_type": "execute_result"
    }
   ],
   "source": [
    "counts = df.count()\n",
    "counts"
   ]
  },
  {
   "cell_type": "code",
   "execution_count": 7,
   "metadata": {},
   "outputs": [
    {
     "data": {
      "text/plain": [
       "math      327.0\n",
       "coding    393.0\n",
       "econ      319.0\n",
       "dtype: float64"
      ]
     },
     "execution_count": 7,
     "metadata": {},
     "output_type": "execute_result"
    }
   ],
   "source": [
    "success = df.sum()\n",
    "success"
   ]
  },
  {
   "cell_type": "code",
   "execution_count": 8,
   "metadata": {},
   "outputs": [
    {
     "data": {
      "text/plain": [
       "math      273.0\n",
       "coding    407.0\n",
       "econ      281.0\n",
       "dtype: float64"
      ]
     },
     "execution_count": 8,
     "metadata": {},
     "output_type": "execute_result"
    }
   ],
   "source": [
    "failure = counts - success\n",
    "failure"
   ]
  },
  {
   "cell_type": "code",
   "execution_count": 9,
   "metadata": {},
   "outputs": [
    {
     "data": {
      "text/html": [
       "<div>\n",
       "<style scoped>\n",
       "    .dataframe tbody tr th:only-of-type {\n",
       "        vertical-align: middle;\n",
       "    }\n",
       "\n",
       "    .dataframe tbody tr th {\n",
       "        vertical-align: top;\n",
       "    }\n",
       "\n",
       "    .dataframe thead th {\n",
       "        text-align: right;\n",
       "    }\n",
       "</style>\n",
       "<table border=\"1\" class=\"dataframe\">\n",
       "  <thead>\n",
       "    <tr style=\"text-align: right;\">\n",
       "      <th></th>\n",
       "      <th>success</th>\n",
       "      <th>failure</th>\n",
       "      <th>counts</th>\n",
       "    </tr>\n",
       "  </thead>\n",
       "  <tbody>\n",
       "    <tr>\n",
       "      <th>math</th>\n",
       "      <td>327.0</td>\n",
       "      <td>273.0</td>\n",
       "      <td>600</td>\n",
       "    </tr>\n",
       "    <tr>\n",
       "      <th>coding</th>\n",
       "      <td>393.0</td>\n",
       "      <td>407.0</td>\n",
       "      <td>800</td>\n",
       "    </tr>\n",
       "    <tr>\n",
       "      <th>econ</th>\n",
       "      <td>319.0</td>\n",
       "      <td>281.0</td>\n",
       "      <td>600</td>\n",
       "    </tr>\n",
       "  </tbody>\n",
       "</table>\n",
       "</div>"
      ],
      "text/plain": [
       "        success  failure  counts\n",
       "math      327.0    273.0     600\n",
       "coding    393.0    407.0     800\n",
       "econ      319.0    281.0     600"
      ]
     },
     "execution_count": 9,
     "metadata": {},
     "output_type": "execute_result"
    }
   ],
   "source": [
    "df_stats = pd.DataFrame({'success': success, 'failure':failure, 'counts': counts})\n",
    "df_stats"
   ]
  },
  {
   "cell_type": "code",
   "execution_count": 10,
   "metadata": {},
   "outputs": [],
   "source": [
    "def test_k_prop(c_r_table, alpha=0.05, theta_null=None):\n",
    "    #calculcate degrees of freedom\n",
    "    deg_freedom = c_r_table.shape[0]\n",
    "    \n",
    "    #check if theta specified\n",
    "    if theta_null:\n",
    "        theta = theta_null\n",
    "        \n",
    "    #calculcated pooled estimate otherwise\n",
    "    else:\n",
    "        #reduce deg of freedom\n",
    "        deg_freedom -= 1\n",
    "        print(\"Using {} degrees of freedom\".format(deg_freedom))\n",
    "        theta_hat = c_r_table['success'].sum() / c_r_table['counts'].sum()\n",
    "        theta = theta_hat\n",
    "        print(\"calculated pooled theta: {}\".format(theta))\n",
    "        \n",
    "    \n",
    "    #calculcate cutoff\n",
    "    chi_critical = chi2.isf(alpha, deg_freedom)\n",
    "    print(\"Evaluating test at chi square {}\".format(chi_critical))\n",
    "    \n",
    "    #calculated expected values:\n",
    "    e_win = c_r_table['counts'] * theta\n",
    "    e_lose = c_r_table['counts'] * (1-theta)\n",
    "    \n",
    "    #create copy of dataframe\n",
    "    df_test = c_r_table.copy()\n",
    "    df_test['e_win'] = e_win\n",
    "    df_test['e_fail'] = e_lose\n",
    "    \n",
    "    df_test['chi_win'] = ((df_test['success'] - df_test['e_win'])**2  ) / df_test['e_win'] \n",
    "    \n",
    "    df_test['chi_fail'] = ((df_test['failure'] - df_test['e_fail'])**2 ) / df_test['e_fail']\n",
    "    \n",
    "    chi_test = df_test['chi_win'].sum() + df_test['chi_fail'].sum()\n",
    "    \n",
    "    if chi_test > chi_critical:\n",
    "        print(\"Reject null hypothesis with {} > {}\".format(chi_test, chi_critical))\n",
    "    else:\n",
    "        print(\"Maintain null hypothesis with {} < {}\".format(chi_test, chi_critical))\n",
    "    \n",
    "    return chi_test, df_test\n",
    "    "
   ]
  },
  {
   "cell_type": "code",
   "execution_count": 11,
   "metadata": {},
   "outputs": [
    {
     "name": "stdout",
     "output_type": "stream",
     "text": [
      "Using 2 degrees of freedom\n",
      "calculated pooled theta: 0.5195\n",
      "Evaluating test at chi square 5.991464547107983\n",
      "Maintain null hypothesis with 4.476475385728355 < 5.991464547107983\n"
     ]
    },
    {
     "data": {
      "text/html": [
       "<div>\n",
       "<style scoped>\n",
       "    .dataframe tbody tr th:only-of-type {\n",
       "        vertical-align: middle;\n",
       "    }\n",
       "\n",
       "    .dataframe tbody tr th {\n",
       "        vertical-align: top;\n",
       "    }\n",
       "\n",
       "    .dataframe thead th {\n",
       "        text-align: right;\n",
       "    }\n",
       "</style>\n",
       "<table border=\"1\" class=\"dataframe\">\n",
       "  <thead>\n",
       "    <tr style=\"text-align: right;\">\n",
       "      <th></th>\n",
       "      <th>success</th>\n",
       "      <th>failure</th>\n",
       "      <th>counts</th>\n",
       "      <th>e_win</th>\n",
       "      <th>e_fail</th>\n",
       "      <th>chi_win</th>\n",
       "      <th>chi_fail</th>\n",
       "    </tr>\n",
       "  </thead>\n",
       "  <tbody>\n",
       "    <tr>\n",
       "      <th>math</th>\n",
       "      <td>327.0</td>\n",
       "      <td>273.0</td>\n",
       "      <td>600</td>\n",
       "      <td>311.7</td>\n",
       "      <td>288.3</td>\n",
       "      <td>0.751011</td>\n",
       "      <td>0.811967</td>\n",
       "    </tr>\n",
       "    <tr>\n",
       "      <th>coding</th>\n",
       "      <td>393.0</td>\n",
       "      <td>407.0</td>\n",
       "      <td>800</td>\n",
       "      <td>415.6</td>\n",
       "      <td>384.4</td>\n",
       "      <td>1.228970</td>\n",
       "      <td>1.328720</td>\n",
       "    </tr>\n",
       "    <tr>\n",
       "      <th>econ</th>\n",
       "      <td>319.0</td>\n",
       "      <td>281.0</td>\n",
       "      <td>600</td>\n",
       "      <td>311.7</td>\n",
       "      <td>288.3</td>\n",
       "      <td>0.170966</td>\n",
       "      <td>0.184842</td>\n",
       "    </tr>\n",
       "  </tbody>\n",
       "</table>\n",
       "</div>"
      ],
      "text/plain": [
       "        success  failure  counts  e_win  e_fail   chi_win  chi_fail\n",
       "math      327.0    273.0     600  311.7   288.3  0.751011  0.811967\n",
       "coding    393.0    407.0     800  415.6   384.4  1.228970  1.328720\n",
       "econ      319.0    281.0     600  311.7   288.3  0.170966  0.184842"
      ]
     },
     "execution_count": 11,
     "metadata": {},
     "output_type": "execute_result"
    }
   ],
   "source": [
    "chi_test,df_test=  test_k_prop(df_stats)\n",
    "df_test"
   ]
  },
  {
   "cell_type": "markdown",
   "metadata": {},
   "source": [
    "# Testing r × c Contingency Tables"
   ]
  },
  {
   "cell_type": "code",
   "execution_count": 12,
   "metadata": {},
   "outputs": [
    {
     "data": {
      "text/plain": [
       "[58, 89, 23]"
      ]
     },
     "execution_count": 12,
     "metadata": {},
     "output_type": "execute_result"
    }
   ],
   "source": [
    "#create toy data again\n",
    "math_premiun = np.random.binomial(100, 0.49)\n",
    "coding_premium  = np.random.binomial(150, 0.55)\n",
    "econ_premium  = np.random.binomial(50, 0.52)\n",
    "premium = [math_premiun, coding_premium, econ_premium]\n",
    "premium"
   ]
  },
  {
   "cell_type": "code",
   "execution_count": 13,
   "metadata": {},
   "outputs": [
    {
     "data": {
      "text/html": [
       "<div>\n",
       "<style scoped>\n",
       "    .dataframe tbody tr th:only-of-type {\n",
       "        vertical-align: middle;\n",
       "    }\n",
       "\n",
       "    .dataframe tbody tr th {\n",
       "        vertical-align: top;\n",
       "    }\n",
       "\n",
       "    .dataframe thead th {\n",
       "        text-align: right;\n",
       "    }\n",
       "</style>\n",
       "<table border=\"1\" class=\"dataframe\">\n",
       "  <thead>\n",
       "    <tr style=\"text-align: right;\">\n",
       "      <th></th>\n",
       "      <th>success</th>\n",
       "      <th>failure</th>\n",
       "      <th>premium</th>\n",
       "      <th>counts</th>\n",
       "    </tr>\n",
       "  </thead>\n",
       "  <tbody>\n",
       "    <tr>\n",
       "      <th>math</th>\n",
       "      <td>327.0</td>\n",
       "      <td>273.0</td>\n",
       "      <td>58</td>\n",
       "      <td>658.0</td>\n",
       "    </tr>\n",
       "    <tr>\n",
       "      <th>coding</th>\n",
       "      <td>393.0</td>\n",
       "      <td>407.0</td>\n",
       "      <td>89</td>\n",
       "      <td>889.0</td>\n",
       "    </tr>\n",
       "    <tr>\n",
       "      <th>econ</th>\n",
       "      <td>319.0</td>\n",
       "      <td>281.0</td>\n",
       "      <td>23</td>\n",
       "      <td>623.0</td>\n",
       "    </tr>\n",
       "  </tbody>\n",
       "</table>\n",
       "</div>"
      ],
      "text/plain": [
       "        success  failure  premium  counts\n",
       "math      327.0    273.0       58   658.0\n",
       "coding    393.0    407.0       89   889.0\n",
       "econ      319.0    281.0       23   623.0"
      ]
     },
     "execution_count": 13,
     "metadata": {},
     "output_type": "execute_result"
    }
   ],
   "source": [
    "#make copy of previous df\n",
    "df_r_c = df_stats[['success','failure']].copy()\n",
    "#insert premium\n",
    "df_r_c['premium'] = premium\n",
    "#update counts\n",
    "df_r_c['counts'] = df_r_c.sum(1)\n",
    "\n",
    "df_r_c"
   ]
  },
  {
   "cell_type": "code",
   "execution_count": 14,
   "metadata": {},
   "outputs": [],
   "source": [
    "def r_c_expectations(r_c_table, cat_cols = ['success', 'failure', 'premium']):\n",
    "    #get total count of observations\n",
    "    n_tot = df_r_c['counts'].sum()\n",
    "\n",
    "    #create a dataframe with categorical columns\n",
    "    df_cats = df_r_c[cat_cols].copy()\n",
    "    \n",
    "    #number of times we observe an outcome (fail, pass, premium, etc..)\n",
    "    f_j = df_cats.sum(0)\n",
    "\n",
    "    #number of times we observe population i (math, coding, econ)\n",
    "    n_i = df_cats.sum(1)\n",
    "    \n",
    "    #create an empty matrix of zeroes\n",
    "    e_ij = np.zeros(df_cats.shape)\n",
    "    \n",
    "    for i in range(len(n_i)):\n",
    "        for j in range(len(f_j)):\n",
    "            e_ij[i,j] = (n_i[i] * f_j[j])/n_tot\n",
    "\n",
    "    return e_ij"
   ]
  },
  {
   "cell_type": "code",
   "execution_count": 15,
   "metadata": {},
   "outputs": [
    {
     "data": {
      "text/plain": [
       "array([[315.0516129 , 291.4       ,  51.5483871 ],\n",
       "       [425.65483871, 393.7       ,  69.64516129],\n",
       "       [298.29354839, 275.9       ,  48.80645161]])"
      ]
     },
     "execution_count": 15,
     "metadata": {},
     "output_type": "execute_result"
    }
   ],
   "source": [
    "r_c_expectations(df_r_c)"
   ]
  },
  {
   "cell_type": "code",
   "execution_count": 16,
   "metadata": {},
   "outputs": [],
   "source": [
    "def r_c_hyp_test(r_c_table, cat_cols = ['success', 'failure', 'premium'], alpha=0.01):\n",
    "    \n",
    "    #get expecation matrix\n",
    "    e_ij = r_c_expectations(r_c_table)\n",
    "    \n",
    "    #define categorical df\n",
    "    df_cats = df_r_c[cat_cols].copy()\n",
    "    \n",
    "    #calculcate squared difference divided by expecation at corresponding location\n",
    "    chi_df = ((e_ij - df_cats)**2)/e_ij\n",
    "    \n",
    "    #get chi value for that df\n",
    "    chi_test = chi_df.sum().sum()\n",
    "    \n",
    "    #calculcate degree of freedom\n",
    "    r, c = df_cats.shape\n",
    "    deg_freedom = (r-1)*(c-1)\n",
    "    \n",
    "    #calculcate cutoff\n",
    "    chi_critical = chi2.isf(alpha, deg_freedom)\n",
    "    \n",
    "    if chi_test > chi_critical:\n",
    "        print(\"Reject null hypothesis with {} > {}\".format(chi_test, chi_critical))\n",
    "    else:\n",
    "        print(\"Maintain null hypothesis with {} < {}\".format(chi_test, chi_critical))\n",
    "        \n",
    "    return chi_test"
   ]
  },
  {
   "cell_type": "code",
   "execution_count": 17,
   "metadata": {},
   "outputs": [
    {
     "name": "stdout",
     "output_type": "stream",
     "text": [
      "Reject null hypothesis with 25.932574905211517 > 13.276704135987625\n"
     ]
    },
    {
     "data": {
      "text/plain": [
       "25.932574905211517"
      ]
     },
     "execution_count": 17,
     "metadata": {},
     "output_type": "execute_result"
    }
   ],
   "source": [
    "r_c_hyp_test(df_r_c)"
   ]
  },
  {
   "cell_type": "code",
   "execution_count": null,
   "metadata": {},
   "outputs": [],
   "source": []
  }
 ],
 "metadata": {
  "kernelspec": {
   "display_name": "Python 3",
   "language": "python",
   "name": "python3"
  },
  "language_info": {
   "codemirror_mode": {
    "name": "ipython",
    "version": 3
   },
   "file_extension": ".py",
   "mimetype": "text/x-python",
   "name": "python",
   "nbconvert_exporter": "python",
   "pygments_lexer": "ipython3",
   "version": "3.7.3"
  }
 },
 "nbformat": 4,
 "nbformat_minor": 2
}
