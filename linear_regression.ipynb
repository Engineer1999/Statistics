{
 "cells": [
  {
   "cell_type": "markdown",
   "metadata": {},
   "source": [
    "# Linear Regression "
   ]
  },
  {
   "cell_type": "code",
   "execution_count": 1,
   "metadata": {},
   "outputs": [],
   "source": [
    "import numpy as np\n",
    "import pandas as pd\n",
    "import matplotlib.pyplot as plt\n",
    "from scipy import stats\n",
    "\n",
    "%matplotlib inline"
   ]
  },
  {
   "cell_type": "markdown",
   "metadata": {},
   "source": [
    "# Simple Regression"
   ]
  },
  {
   "cell_type": "code",
   "execution_count": 2,
   "metadata": {},
   "outputs": [
    {
     "data": {
      "text/html": [
       "<div>\n",
       "<style scoped>\n",
       "    .dataframe tbody tr th:only-of-type {\n",
       "        vertical-align: middle;\n",
       "    }\n",
       "\n",
       "    .dataframe tbody tr th {\n",
       "        vertical-align: top;\n",
       "    }\n",
       "\n",
       "    .dataframe thead th {\n",
       "        text-align: right;\n",
       "    }\n",
       "</style>\n",
       "<table border=\"1\" class=\"dataframe\">\n",
       "  <thead>\n",
       "    <tr style=\"text-align: right;\">\n",
       "      <th></th>\n",
       "      <th>Hours Studied</th>\n",
       "      <th>Test Score</th>\n",
       "    </tr>\n",
       "  </thead>\n",
       "  <tbody>\n",
       "    <tr>\n",
       "      <th>0</th>\n",
       "      <td>4</td>\n",
       "      <td>31</td>\n",
       "    </tr>\n",
       "    <tr>\n",
       "      <th>1</th>\n",
       "      <td>9</td>\n",
       "      <td>58</td>\n",
       "    </tr>\n",
       "    <tr>\n",
       "      <th>2</th>\n",
       "      <td>10</td>\n",
       "      <td>65</td>\n",
       "    </tr>\n",
       "    <tr>\n",
       "      <th>3</th>\n",
       "      <td>14</td>\n",
       "      <td>73</td>\n",
       "    </tr>\n",
       "    <tr>\n",
       "      <th>4</th>\n",
       "      <td>4</td>\n",
       "      <td>37</td>\n",
       "    </tr>\n",
       "    <tr>\n",
       "      <th>5</th>\n",
       "      <td>7</td>\n",
       "      <td>44</td>\n",
       "    </tr>\n",
       "    <tr>\n",
       "      <th>6</th>\n",
       "      <td>12</td>\n",
       "      <td>60</td>\n",
       "    </tr>\n",
       "    <tr>\n",
       "      <th>7</th>\n",
       "      <td>22</td>\n",
       "      <td>91</td>\n",
       "    </tr>\n",
       "    <tr>\n",
       "      <th>8</th>\n",
       "      <td>1</td>\n",
       "      <td>21</td>\n",
       "    </tr>\n",
       "    <tr>\n",
       "      <th>9</th>\n",
       "      <td>17</td>\n",
       "      <td>84</td>\n",
       "    </tr>\n",
       "  </tbody>\n",
       "</table>\n",
       "</div>"
      ],
      "text/plain": [
       "   Hours Studied  Test Score\n",
       "0              4          31\n",
       "1              9          58\n",
       "2             10          65\n",
       "3             14          73\n",
       "4              4          37\n",
       "5              7          44\n",
       "6             12          60\n",
       "7             22          91\n",
       "8              1          21\n",
       "9             17          84"
      ]
     },
     "execution_count": 2,
     "metadata": {},
     "output_type": "execute_result"
    }
   ],
   "source": [
    "student_dict = {'Hours Studied': [4, 9, 10, 14, 4, 7, 12, 22, 1, 17],\n",
    "            'Test Score': [31, 58, 65, 73, 37, 44, 60, 91, 21, 84]}\n",
    "\n",
    "student_df = pd.DataFrame(student_dict)\n",
    "\n",
    "student_df"
   ]
  },
  {
   "cell_type": "code",
   "execution_count": 3,
   "metadata": {},
   "outputs": [
    {
     "data": {
      "image/png": "[encoded data removed]",
      "text/plain": [
       "<Figure size 432x288 with 1 Axes>"
      ]
     },
     "metadata": {
      "needs_background": "light"
     },
     "output_type": "display_data"
    }
   ],
   "source": [
    "plt.scatter(x=student_df['Hours Studied'], y=student_df['Test Score'])\n",
    "plt.xlabel(\"Hours Studied\")\n",
    "plt.ylabel(\"Test Score\")\n",
    "plt.savefig(\"student_hours_score.png\")\n",
    "plt.xticks(np.arange(0, 30, 5))\n",
    "plt.yticks(np.arange(0, 110, 10))\n",
    "plt.show()"
   ]
  },
  {
   "cell_type": "code",
   "execution_count": 4,
   "metadata": {},
   "outputs": [],
   "source": [
    "def getPairStats(x, y):\n",
    "    \n",
    "    #calculate means\n",
    "    x_bar = np.mean(x)\n",
    "    y_bar = np.mean(y)\n",
    "    #get number of entries\n",
    "    n = len(x)\n",
    "    \n",
    "    #calculate sums\n",
    "    x_sum = np.sum(x)\n",
    "    x_sum_square = np.sum([xi**2 for xi in x])\n",
    "    y_sum = np.sum(y)\n",
    "    y_sum_square = np.sum([yi**2 for yi in y])\n",
    "    xy_sum = np.sum([xi*yi for xi, yi in zip(x, y)])\n",
    "    \n",
    "    #calculcate remainder of equations\n",
    "    s_xx  = x_sum_square - (1/n)*(x_sum**2)\n",
    "    s_yy = y_sum_square - (1/n)*(y_sum**2)\n",
    "    s_xy = xy_sum - (1/n)*x_sum*y_sum\n",
    "    \n",
    "    return s_xx, s_yy, s_xy"
   ]
  },
  {
   "cell_type": "code",
   "execution_count": 5,
   "metadata": {},
   "outputs": [],
   "source": [
    "def pair_regression(x, y):\n",
    "    \"\"\"\n",
    "    perform simple regression between predictor variable x and target variable y\n",
    "    \"\"\"\n",
    "    \n",
    "    #calculate means\n",
    "    x_bar = np.mean(x)\n",
    "    y_bar = np.mean(y)\n",
    "    #get number of entries\n",
    "    n = len(x)\n",
    "    \n",
    "    #get stats\n",
    "    s_xx, s_yy, s_xy = getPairStats(x, y)\n",
    "    \n",
    "    #calculcate coefficients\n",
    "    beta_hat = s_xy / s_xx\n",
    "    alpa_hat = y_bar - beta_hat * x_bar\n",
    "    \n",
    "    return alpa_hat, beta_hat\n",
    "    "
   ]
  },
  {
   "cell_type": "code",
   "execution_count": 6,
   "metadata": {},
   "outputs": [
    {
     "name": "stdout",
     "output_type": "stream",
     "text": [
      "The vertical axis intercept alpha hat is equal to: 21.69255319148936\n",
      "The slope beta hat is equal to: 3.470744680851064\n"
     ]
    }
   ],
   "source": [
    "alpha_hat, beta_hat = pair_regression(x=student_df['Hours Studied'], y=student_df['Test Score'])\n",
    "print(\"The vertical axis intercept alpha hat is equal to: {}\".format(alpha_hat))\n",
    "print(\"The slope beta hat is equal to: {}\".format(beta_hat))"
   ]
  },
  {
   "cell_type": "markdown",
   "metadata": {},
   "source": [
    "## Plot OLS"
   ]
  },
  {
   "cell_type": "code",
   "execution_count": 7,
   "metadata": {},
   "outputs": [
    {
     "data": {
      "text/plain": [
       "[35.57553191489362,\n",
       " 52.929255319148936,\n",
       " 56.4,\n",
       " 70.28297872340426,\n",
       " 35.57553191489362,\n",
       " 45.98776595744681,\n",
       " 63.34148936170212,\n",
       " 98.04893617021276,\n",
       " 25.163297872340422,\n",
       " 80.69521276595745]"
      ]
     },
     "execution_count": 7,
     "metadata": {},
     "output_type": "execute_result"
    }
   ],
   "source": [
    "y_pred = [alpha_hat + beta_hat*xi for xi in student_df['Hours Studied']]\n",
    "y_pred"
   ]
  },
  {
   "cell_type": "code",
   "execution_count": 8,
   "metadata": {},
   "outputs": [
    {
     "data": {
      "image/png": "[encoded data removed]",
      "text/plain": [
       "<Figure size 432x288 with 1 Axes>"
      ]
     },
     "metadata": {
      "needs_background": "light"
     },
     "output_type": "display_data"
    }
   ],
   "source": [
    "plt.scatter(x=student_df['Hours Studied'], y=student_df['Test Score'], label = 'Data')\n",
    "plt.plot(student_df['Hours Studied'], y_pred, label = 'OLS Fit', color='orange', marker='x')\n",
    "\n",
    "#plot OLS vertical deviations\n",
    "for xi, yi, yp in zip(student_df['Hours Studied'], student_df['Test Score'], y_pred):\n",
    "    plt.plot([xi, xi], [yi, yp], color='purple')\n",
    "\n",
    "\n",
    "plt.xlabel(\"Hours Studied\")\n",
    "plt.ylabel(\"Test Score\")\n",
    "plt.savefig(\"student_hours_ols.png\")\n",
    "plt.xticks(np.arange(0, 30, 5))\n",
    "plt.yticks(np.arange(0, 110, 10))\n",
    "plt.legend()\n",
    "plt.show()"
   ]
  },
  {
   "cell_type": "markdown",
   "metadata": {},
   "source": [
    "# Hypothesis Testing"
   ]
  },
  {
   "cell_type": "markdown",
   "metadata": {},
   "source": [
    "- H0: β=3\n",
    "- H1: β>3\n",
    "- Set the significance level α=0.01"
   ]
  },
  {
   "cell_type": "code",
   "execution_count": 9,
   "metadata": {},
   "outputs": [
    {
     "name": "stdout",
     "output_type": "stream",
     "text": [
      "2.896459442760522\n"
     ]
    }
   ],
   "source": [
    "print (stats.t.ppf(1-0.01, 8))"
   ]
  },
  {
   "cell_type": "code",
   "execution_count": 10,
   "metadata": {},
   "outputs": [
    {
     "name": "stdout",
     "output_type": "stream",
     "text": [
      "We will compare the t statistic of 2.8965 against the calculated value of 1.7286\n",
      "Fail to reject H0\n"
     ]
    },
    {
     "data": {
      "text/plain": [
       "False"
      ]
     },
     "execution_count": 10,
     "metadata": {},
     "output_type": "execute_result"
    }
   ],
   "source": [
    "def simple_regression_test(x, y, beta_ho, sig=0.01):\n",
    "    n = len(x)\n",
    "    #calculate stats\n",
    "    s_xx, s_yy, s_xy = getPairStats(x, y)\n",
    "    \n",
    "    #get regression coefficients\n",
    "    alpha_hat, beta_hat = pair_regression(x, y)\n",
    "    \n",
    "    #maximim likelihood estimator\n",
    "    sigma_hat = np.sqrt((1/n)*(s_yy-beta_hat*s_xy))\n",
    "    \n",
    "    #calcucalte t statistic\n",
    "    t_test_value = ((beta_hat - beta_ho)/(sigma_hat)) * np.sqrt((n-2)*s_xx/10)\n",
    "    \n",
    "    #calculcate t statistic\n",
    "    t_limit = stats.t.ppf(1-sig, n-2)\n",
    "    \n",
    "    print(\"We will compare the t statistic of {:.4f} against the calculated value of {:.4f}\".format(t_limit, t_test_value))\n",
    "    \n",
    "    if t_test_value < t_limit:\n",
    "        print(\"Fail to reject H0\")\n",
    "        return False\n",
    "    else:\n",
    "        print(\"Reject H0\")\n",
    "        return True\n",
    "    \n",
    "simple_regression_test(x=student_df['Hours Studied'], y=student_df['Test Score'], beta_ho=3, sig=0.01)"
   ]
  },
  {
   "cell_type": "markdown",
   "metadata": {},
   "source": [
    "# Confidence Interval"
   ]
  },
  {
   "cell_type": "code",
   "execution_count": 11,
   "metadata": {},
   "outputs": [
    {
     "name": "stdout",
     "output_type": "stream",
     "text": [
      "beta_lower: 2.8428\n",
      "beta_upper: 4.0987\n"
     ]
    }
   ],
   "source": [
    "def simple_regression_conf(x, y, alpha=0.05):\n",
    "    \n",
    "    n = len(x)\n",
    "    #calculate stats\n",
    "    s_xx, s_yy, s_xy = getPairStats(x, y)\n",
    "    \n",
    "    #get regression coefficients\n",
    "    alpha_hat, beta_hat = pair_regression(x, y)\n",
    "    \n",
    "    #maximim likelihood estimator\n",
    "    sigma_hat = np.sqrt((1/n)*(s_yy-beta_hat*s_xy))\n",
    "    \n",
    "    #calculcate t statistic\n",
    "    t_limit = stats.t.ppf(1-alpha/2, n-2)\n",
    "    #interval term\n",
    "    interval_val = t_limit*sigma_hat*np.sqrt(n/((n-2)*s_xx))\n",
    "    \n",
    "    #calculcate intervals\n",
    "    beta_upper = beta_hat + interval_val\n",
    "    beta_lower = beta_hat - interval_val\n",
    "    \n",
    "    return beta_lower, beta_upper\n",
    "\n",
    "beta_lower, beta_upper = simple_regression_conf(x=student_df['Hours Studied'], y=student_df['Test Score'], alpha=0.05)\n",
    "print(\"beta_lower: {:.4f}\".format(beta_lower))\n",
    "print(\"beta_upper: {:.4f}\".format(beta_upper))"
   ]
  },
  {
   "cell_type": "code",
   "execution_count": 12,
   "metadata": {},
   "outputs": [
    {
     "data": {
      "image/png": "[encoded data removed]",
      "text/plain": [
       "<Figure size 432x288 with 1 Axes>"
      ]
     },
     "metadata": {
      "needs_background": "light"
     },
     "output_type": "display_data"
    }
   ],
   "source": [
    "y_upper = [alpha_hat + beta_upper*xi for xi in student_df['Hours Studied']]\n",
    "y_lower = [alpha_hat + beta_lower*xi for xi in student_df['Hours Studied']]\n",
    "\n",
    "plt.scatter(x=student_df['Hours Studied'], y=student_df['Test Score'], label = 'Data')\n",
    "plt.plot(student_df['Hours Studied'], y_pred, label = 'OLS Fit', color='orange', marker='x')\n",
    "plt.plot(student_df['Hours Studied'], y_upper, label = 'Upper prediction', color='red')\n",
    "plt.plot(student_df['Hours Studied'], y_lower, label = 'Lower Prediction', color='green')\n",
    "plt.legend()\n",
    "\n",
    "plt.savefig(\"95p_conf_fit.png\")\n",
    "\n",
    "plt.show()"
   ]
  },
  {
   "cell_type": "markdown",
   "metadata": {},
   "source": [
    "# Normal Correlation Analysis"
   ]
  },
  {
   "cell_type": "code",
   "execution_count": 13,
   "metadata": {},
   "outputs": [],
   "source": [
    "def linear_reg_corr(x, y):\n",
    "    #calculate stats\n",
    "    s_xx, s_yy, s_xy = getPairStats(x, y)\n",
    "    \n",
    "    r = s_xy / np.sqrt(s_xx*s_yy)\n",
    "    \n",
    "    return r"
   ]
  },
  {
   "cell_type": "code",
   "execution_count": 14,
   "metadata": {},
   "outputs": [
    {
     "data": {
      "text/plain": [
       "0.9762478616224108"
      ]
     },
     "execution_count": 14,
     "metadata": {},
     "output_type": "execute_result"
    }
   ],
   "source": [
    "linear_reg_corr(x=student_df['Hours Studied'], y=student_df['Test Score'])"
   ]
  },
  {
   "cell_type": "markdown",
   "metadata": {},
   "source": [
    "# Multiple Linear Regression"
   ]
  },
  {
   "cell_type": "code",
   "execution_count": 15,
   "metadata": {},
   "outputs": [
    {
     "data": {
      "text/html": [
       "<div>\n",
       "<style scoped>\n",
       "    .dataframe tbody tr th:only-of-type {\n",
       "        vertical-align: middle;\n",
       "    }\n",
       "\n",
       "    .dataframe tbody tr th {\n",
       "        vertical-align: top;\n",
       "    }\n",
       "\n",
       "    .dataframe thead th {\n",
       "        text-align: right;\n",
       "    }\n",
       "</style>\n",
       "<table border=\"1\" class=\"dataframe\">\n",
       "  <thead>\n",
       "    <tr style=\"text-align: right;\">\n",
       "      <th></th>\n",
       "      <th>Number of bedrooms</th>\n",
       "      <th>Number of baths</th>\n",
       "      <th>Price</th>\n",
       "    </tr>\n",
       "  </thead>\n",
       "  <tbody>\n",
       "    <tr>\n",
       "      <th>0</th>\n",
       "      <td>3</td>\n",
       "      <td>2</td>\n",
       "      <td>292000</td>\n",
       "    </tr>\n",
       "    <tr>\n",
       "      <th>1</th>\n",
       "      <td>2</td>\n",
       "      <td>1</td>\n",
       "      <td>264600</td>\n",
       "    </tr>\n",
       "    <tr>\n",
       "      <th>2</th>\n",
       "      <td>4</td>\n",
       "      <td>3</td>\n",
       "      <td>317500</td>\n",
       "    </tr>\n",
       "    <tr>\n",
       "      <th>3</th>\n",
       "      <td>2</td>\n",
       "      <td>1</td>\n",
       "      <td>265500</td>\n",
       "    </tr>\n",
       "    <tr>\n",
       "      <th>4</th>\n",
       "      <td>3</td>\n",
       "      <td>2</td>\n",
       "      <td>302000</td>\n",
       "    </tr>\n",
       "    <tr>\n",
       "      <th>5</th>\n",
       "      <td>2</td>\n",
       "      <td>2</td>\n",
       "      <td>275500</td>\n",
       "    </tr>\n",
       "    <tr>\n",
       "      <th>6</th>\n",
       "      <td>5</td>\n",
       "      <td>3</td>\n",
       "      <td>333000</td>\n",
       "    </tr>\n",
       "    <tr>\n",
       "      <th>7</th>\n",
       "      <td>4</td>\n",
       "      <td>2</td>\n",
       "      <td>307500</td>\n",
       "    </tr>\n",
       "  </tbody>\n",
       "</table>\n",
       "</div>"
      ],
      "text/plain": [
       "   Number of bedrooms  Number of baths   Price\n",
       "0                   3                2  292000\n",
       "1                   2                1  264600\n",
       "2                   4                3  317500\n",
       "3                   2                1  265500\n",
       "4                   3                2  302000\n",
       "5                   2                2  275500\n",
       "6                   5                3  333000\n",
       "7                   4                2  307500"
      ]
     },
     "execution_count": 15,
     "metadata": {},
     "output_type": "execute_result"
    }
   ],
   "source": [
    "price_dict = {'Number of bedrooms': [3, 2, 4, 2, 3, 2, 5, 4],\n",
    "              'Number of baths': [2, 1, 3, 1, 2, 2, 3, 2],\n",
    "              'Price': [292000, 264600, 317500, 265500, 302000, 275500, 333000, 307500]}\n",
    "\n",
    "price_df = pd.DataFrame(price_dict)\n",
    "\n",
    "price_df"
   ]
  },
  {
   "cell_type": "code",
   "execution_count": 25,
   "metadata": {},
   "outputs": [],
   "source": [
    "def mult_regression_XXT(X, y):\n",
    "    #define column for ones\n",
    "    ones = [1] * np.shape(X)[0]\n",
    "    #reshape to make column vector\n",
    "    ones = np.reshape(ones, (len(ones), -1))\n",
    "    \n",
    "    #concatenate with initial features\n",
    "    X_ones = np.concatenate([ones, X], axis=1)\n",
    "    \n",
    "    #solve the equation\n",
    "    X_T = np.transpose(X_ones)\n",
    "    XXT_inverse = np.linalg.inv(np.matmul(X_T, X_ones))\n",
    "    \n",
    "    return X_T, XXT_inverse"
   ]
  },
  {
   "cell_type": "code",
   "execution_count": 28,
   "metadata": {},
   "outputs": [],
   "source": [
    "def multiple_regression(X, y):\n",
    "    \n",
    "    X_T, XXT_inverse = mult_regression_XXT(X, y)\n",
    "    B =  np.matmul(np.matmul(XXT_inverse, X_T), y)\n",
    "    \n",
    "    return B"
   ]
  },
  {
   "cell_type": "code",
   "execution_count": 29,
   "metadata": {},
   "outputs": [
    {
     "data": {
      "text/plain": [
       "array([224928.57142857,  15314.28571429,  10957.14285714])"
      ]
     },
     "execution_count": 29,
     "metadata": {},
     "output_type": "execute_result"
    }
   ],
   "source": [
    "X= price_df[['Number of bedrooms', 'Number of baths']]\n",
    "y = price_df['Price']\n",
    "\n",
    "multiple_regression(X, y)"
   ]
  },
  {
   "cell_type": "markdown",
   "metadata": {},
   "source": [
    "# Multiple Hypothesis Testing"
   ]
  },
  {
   "cell_type": "code",
   "execution_count": 38,
   "metadata": {},
   "outputs": [
    {
     "name": "stdout",
     "output_type": "stream",
     "text": [
      "We will compare the t statistic 2.1195 against the limit 2.0150\n",
      "Reject null hypothesis\n"
     ]
    }
   ],
   "source": [
    "def mult_regression_test(X, y, beta_ho, sig=0.05, i=0):\n",
    "    #calculate y times y.T\n",
    "    yyt = np.sum([yi**2 for yi in y])\n",
    "    \n",
    "    X_T, XXT_inverse = mult_regression_XXT(X, y)\n",
    "    \n",
    "    B = multiple_regression(X, y)\n",
    "    \n",
    "    BXY = np.matmul(np.matmul(np.transpose(B), X_T), y)\n",
    "    \n",
    "    n, k = np.shape(X)\n",
    "    \n",
    "    sigma_hat = np.sqrt((yyt-BXY)/n)\n",
    "    \n",
    "    c_ii= XXT_inverse[i][i]\n",
    "    \n",
    "    t_stat = (B[i] - beta_ho)/(sigma_hat*np.sqrt((n*c_ii)/(n-k-1)))\n",
    "    \n",
    "    #calculcate t statistic\n",
    "    t_limit = stats.t.ppf(1-sig, n-k-1)\n",
    "    \n",
    "    print(\"We will compare the t statistic {:.4f} against the limit {:.4f}\".format(t_stat, t_limit))\n",
    "    \n",
    "    if t_stat>t_limit:\n",
    "        print(\"Reject null hypothesis\")\n",
    "    else:\n",
    "        print(\"Fail to reject null hypothesis\")\n",
    "\n",
    "mult_regression_test(X, y, beta_ho=9500, i=1)"
   ]
  },
  {
   "cell_type": "code",
   "execution_count": null,
   "metadata": {},
   "outputs": [],
   "source": []
  }
 ],
 "metadata": {
  "kernelspec": {
   "display_name": "Python 3",
   "language": "python",
   "name": "python3"
  },
  "language_info": {
   "codemirror_mode": {
    "name": "ipython",
    "version": 3
   },
   "file_extension": ".py",
   "mimetype": "text/x-python",
   "name": "python",
   "nbconvert_exporter": "python",
   "pygments_lexer": "ipython3",
   "version": "3.7.3"
  }
 },
 "nbformat": 4,
 "nbformat_minor": 2
}
