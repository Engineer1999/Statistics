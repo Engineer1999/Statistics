{
 "cells": [
  {
   "cell_type": "code",
   "execution_count": 1,
   "metadata": {},
   "outputs": [],
   "source": [
    "import pandas as pd\n",
    "import numpy as np\n",
    "import matplotlib.pyplot as plt\n",
    "from scipy.stats import ttest_ind\n",
    "import scipy.stats as st\n",
    "\n",
    "%matplotlib inline"
   ]
  },
  {
   "cell_type": "markdown",
   "metadata": {},
   "source": [
    "References:\n",
    "\n",
    "http://www.stats.ox.ac.uk/~massa/Lecture%2013.pdf\n",
    "\n",
    "http://www.physics.csbsju.edu/stats/KS-test.html"
   ]
  },
  {
   "cell_type": "markdown",
   "metadata": {},
   "source": [
    "The Kolmogorov–Smirnov (KS) test is a non parametric and distribution free test: It makes no assumption about the distribution of data.\n",
    "The KS test that can be used to compare a sample with with a reference probability distribution, or to compare two samples. In this first section we are going to justify the need for a KS test and how it can account for shortcomings from the student t-test.\n"
   ]
  },
  {
   "cell_type": "markdown",
   "metadata": {},
   "source": [
    "# Limitations of the t-Test\n",
    "There are situations where we ought to doubt the results of a t-test. The t-test assumes that situations produce normal data that differ only in the sense that the average outcome in one situation is different from the average outcome of the other situation.\n",
    "\n",
    "That being said, if we apply the t-test to data drawn from a non-normal distribution, we are probably increasing the risk of errors. Per the Central Limit Thoerem (CLM), the t-test becomes more robust as the control/treatment groups become sufficiently large. However the t-test can still fail in situations where we have a \"large\" enough sample, the t-test might still be misleading such as observations drawn from a Cauchy distribution."
   ]
  },
  {
   "cell_type": "markdown",
   "metadata": {},
   "source": [
    "## Control and Treatment Groups: do not differ in mean, but only in some other way."
   ]
  },
  {
   "cell_type": "code",
   "execution_count": 2,
   "metadata": {},
   "outputs": [
    {
     "name": "stdout",
     "output_type": "stream",
     "text": [
      "group a: \n",
      "[-1.57732256 -1.56672054 -1.3244867  -0.83480189 -0.68086202 -0.60709906\n",
      " -0.55483821 -0.42541341 -0.26152138 -0.20700333 -0.17088607 -0.14252505\n",
      "  0.02468872  0.28226215  0.29710377  0.3190667   0.43314674  0.47398412\n",
      "  1.62150234  1.67208343]\n",
      "group b: \n",
      "[-3.03104267 -2.03319014 -1.13189222 -1.07316906 -0.9000355  -0.41197908\n",
      " -0.24293071  0.06187006  0.08605569  0.17242589  0.29157155  0.42142851\n",
      "  0.73425462  0.81049888  1.57434313  1.71345635  2.7124071   3.0871903\n",
      "  5.59864667  5.90658893]\n"
     ]
    }
   ],
   "source": [
    "group_a = np.random.normal(loc=0, scale=1.0, size=20)\n",
    "group_b = np.random.normal(loc=0, scale=3.0, size=20)\n",
    "\n",
    "print('group a: \\n{}'.format(np.sort(group_a)))\n",
    "print('group b: \\n{}'.format(np.sort(group_b)))\n"
   ]
  },
  {
   "cell_type": "code",
   "execution_count": 3,
   "metadata": {},
   "outputs": [
    {
     "data": {
      "text/plain": [
       "-0.16148211177434182"
      ]
     },
     "execution_count": 3,
     "metadata": {},
     "output_type": "execute_result"
    }
   ],
   "source": [
    "group_a.mean()"
   ]
  },
  {
   "cell_type": "code",
   "execution_count": 4,
   "metadata": {},
   "outputs": [
    {
     "data": {
      "text/plain": [
       "0.7173249153632902"
      ]
     },
     "execution_count": 4,
     "metadata": {},
     "output_type": "execute_result"
    }
   ],
   "source": [
    "group_b.mean()"
   ]
  },
  {
   "cell_type": "code",
   "execution_count": 5,
   "metadata": {},
   "outputs": [
    {
     "data": {
      "text/plain": [
       "Ttest_indResult(statistic=-1.6260271190811244, pvalue=0.11670445182231494)"
      ]
     },
     "execution_count": 5,
     "metadata": {},
     "output_type": "execute_result"
    }
   ],
   "source": [
    "ttest_ind(group_a, group_b, equal_var=False)"
   ]
  },
  {
   "cell_type": "code",
   "execution_count": 6,
   "metadata": {},
   "outputs": [
    {
     "data": {
      "text/plain": [
       "Ttest_indResult(statistic=-0.35661469049250266, pvalue=0.7213807897632778)"
      ]
     },
     "execution_count": 6,
     "metadata": {},
     "output_type": "execute_result"
    }
   ],
   "source": [
    "#try again with really large samples and t-test should work\n",
    "ttest_ind(np.random.normal(loc=0, scale=1.0, size=100_000),\n",
    "          np.random.normal(loc=0, scale=2.0, size=100_000),\n",
    "          equal_var=False)"
   ]
  },
  {
   "cell_type": "markdown",
   "metadata": {},
   "source": [
    "If the null hypothesis was that two samples are similar, a p-value higher than 0.05 is not statistically significant and indicates weak evidence against the null hypothesis. \n",
    "This means we fail to reject the null hypothesis and cannot accept the alternative hypothesis."
   ]
  },
  {
   "cell_type": "markdown",
   "metadata": {},
   "source": [
    "##  Small Datasets Different in Mean"
   ]
  },
  {
   "cell_type": "code",
   "execution_count": 32,
   "metadata": {},
   "outputs": [
    {
     "name": "stdout",
     "output_type": "stream",
     "text": [
      "group a: \n",
      "[1.04072566e-08 1.52858367e-04 4.13069409e-04 7.15010624e-03\n",
      " 1.04863520e-02 1.19517093e-02 5.77959311e-02 1.11574831e+00\n",
      " 5.94803087e+01 1.70093707e+02 1.73041838e+02 2.55824547e+02\n",
      " 2.65687967e+02 8.38507641e+02 1.19308583e+03 4.06255263e+03\n",
      " 1.23616922e+04 3.69103776e+04 1.11551940e+07 1.53072045e+08]\n",
      "group a: \n",
      "[2.46485329e-05 2.33950375e-02 7.72273579e-02 3.66263781e-01\n",
      " 1.27165995e+00 4.88322120e+00 1.42103781e+01 5.05046301e+01\n",
      " 1.32405714e+02 4.66103790e+02 1.07285282e+03 7.46708342e+03\n",
      " 4.40676769e+04 1.05854441e+06 1.22132094e+06 1.48709391e+06\n",
      " 2.56910024e+08 9.21642654e+08 2.06377521e+10 4.11588697e+11]\n"
     ]
    }
   ],
   "source": [
    "#samples from lognormal\n",
    "lognorm_a = np.random.lognormal(mean=3, sigma=10, size=20)\n",
    "print('group a: \\n{}'.format(np.sort(lognorm_a)))\n",
    "\n",
    "lognorm_b = np.random.lognormal(mean=8, sigma=10, size=20)\n",
    "print('group a: \\n{}'.format(np.sort(lognorm_b)))\n"
   ]
  },
  {
   "cell_type": "code",
   "execution_count": 33,
   "metadata": {},
   "outputs": [
    {
     "data": {
      "text/plain": [
       "Ttest_indResult(statistic=-1.0542379383647078, pvalue=0.29843127207210723)"
      ]
     },
     "execution_count": 33,
     "metadata": {},
     "output_type": "execute_result"
    }
   ],
   "source": [
    "ttest_ind(lognorm_a, lognorm_b)"
   ]
  },
  {
   "cell_type": "markdown",
   "metadata": {},
   "source": [
    "Again, these are different distributions yet we fail to reject the null hypothesis."
   ]
  },
  {
   "cell_type": "markdown",
   "metadata": {},
   "source": [
    "# Implement the KS Test"
   ]
  },
  {
   "cell_type": "markdown",
   "metadata": {},
   "source": [
    "Suppose we have observations x1, x2, ...xn that we think come from a distribution P. The KS test is used to evaluate:\n",
    "- Null Hypothesis: The samples do indeed come from P\n",
    "- Alternative Hypothesis: The amples do not come from P\n",
    "\n",
    "To build intution for the KS test, we take a step back and consider descriptive statistics. Distributions sucha s the normal distribution are known to have a mean of 0 and a standard deviation of 1. Therefore we expect no more than 15% of the data to lie below the mean.\n",
    "\n",
    "In this task we will use the Cumulative Distribution Function (CDF). More specifically, we will use the Empirical Distribution Function (EDF): an estimate of the cumulative distribution function that generated the points in the sample.\n",
    "\n",
    "\n",
    "In the first example we want to compare the empirical distribution function of the observed data, with the cumulative distribution function associated with the null hypothesis (normal distribution).\n"
   ]
  },
  {
   "cell_type": "code",
   "execution_count": 10,
   "metadata": {},
   "outputs": [],
   "source": [
    "#generate random aray\n",
    "arr_1 = np.random.normal(0, 1.0, size=100)"
   ]
  },
  {
   "cell_type": "markdown",
   "metadata": {},
   "source": [
    "The cumulative distribution function uniquely characterizes a probability distribution.\n",
    "We want to compare the empirical distribution function of the data, **F_obs**, with the cumulative distribution function associated with the null hypothesis, **F_exp** (expected CDF)."
   ]
  },
  {
   "cell_type": "code",
   "execution_count": 11,
   "metadata": {},
   "outputs": [],
   "source": [
    "arr_1_edf = np.arange(1/len(arr_1), 1+1/len(arr_1), 1/len(arr_1))"
   ]
  },
  {
   "cell_type": "code",
   "execution_count": 12,
   "metadata": {},
   "outputs": [
    {
     "data": {
      "text/plain": [
       "array([0.01, 0.02, 0.03, 0.04, 0.05, 0.06, 0.07, 0.08, 0.09, 0.1 , 0.11,\n",
       "       0.12, 0.13, 0.14, 0.15, 0.16, 0.17, 0.18, 0.19, 0.2 , 0.21, 0.22,\n",
       "       0.23, 0.24, 0.25, 0.26, 0.27, 0.28, 0.29, 0.3 , 0.31, 0.32, 0.33,\n",
       "       0.34, 0.35, 0.36, 0.37, 0.38, 0.39, 0.4 , 0.41, 0.42, 0.43, 0.44,\n",
       "       0.45, 0.46, 0.47, 0.48, 0.49, 0.5 , 0.51, 0.52, 0.53, 0.54, 0.55,\n",
       "       0.56, 0.57, 0.58, 0.59, 0.6 , 0.61, 0.62, 0.63, 0.64, 0.65, 0.66,\n",
       "       0.67, 0.68, 0.69, 0.7 , 0.71, 0.72, 0.73, 0.74, 0.75, 0.76, 0.77,\n",
       "       0.78, 0.79, 0.8 , 0.81, 0.82, 0.83, 0.84, 0.85, 0.86, 0.87, 0.88,\n",
       "       0.89, 0.9 , 0.91, 0.92, 0.93, 0.94, 0.95, 0.96, 0.97, 0.98, 0.99,\n",
       "       1.  ])"
      ]
     },
     "execution_count": 12,
     "metadata": {},
     "output_type": "execute_result"
    }
   ],
   "source": [
    "arr_1_edf"
   ]
  },
  {
   "cell_type": "code",
   "execution_count": 13,
   "metadata": {
    "scrolled": false
   },
   "outputs": [],
   "source": [
    "#sort\n",
    "arr_1_sorted = np.sort(arr_1)\n",
    "#get cdf based on norm distribution\n",
    "cdf_null_hyp = [st.norm.cdf(x) for x in arr_1_sorted]"
   ]
  },
  {
   "cell_type": "code",
   "execution_count": 14,
   "metadata": {},
   "outputs": [
    {
     "data": {
      "text/plain": [
       "0.07005504467392648"
      ]
     },
     "execution_count": 14,
     "metadata": {},
     "output_type": "execute_result"
    }
   ],
   "source": [
    "#calculate absolute difference\n",
    "arr_dif_abs = np.abs(cdf_null_hyp-arr_1_edf)\n",
    "#get max different\n",
    "dn_ks = max(arr_dif_abs)\n",
    "dn_ks"
   ]
  },
  {
   "cell_type": "code",
   "execution_count": 15,
   "metadata": {},
   "outputs": [
    {
     "data": {
      "text/plain": [
       "0.136"
      ]
     },
     "execution_count": 15,
     "metadata": {},
     "output_type": "execute_result"
    }
   ],
   "source": [
    "dn_crit = 1.36/np.sqrt(len(arr_1))\n",
    "dn_crit"
   ]
  },
  {
   "cell_type": "code",
   "execution_count": 34,
   "metadata": {},
   "outputs": [
    {
     "data": {
      "image/png": "[encoded data removed]",
      "text/plain": [
       "<Figure size 720x360 with 1 Axes>"
      ]
     },
     "metadata": {
      "needs_background": "light"
     },
     "output_type": "display_data"
    }
   ],
   "source": [
    "plt.figure(figsize=(10, 5))\n",
    "plt.plot(arr_1_sorted, arr_1_edf, label='F_obs')\n",
    "plt.plot(arr_1_sorted, cdf_null_hyp, label='F_exp')\n",
    "for x, y1, y2 in zip(arr_1_sorted, arr_1_edf, cdf_null_hyp):\n",
    "    plt.plot([x, x], [y1, y2], color='green', alpha=0.4)\n",
    "plt.legend()\n",
    "plt.ylabel(\"F(x)\")\n",
    "plt.xlabel('x')\n",
    "plt.title(\"KS Goodness of Fit\")\n",
    "plt.show()"
   ]
  },
  {
   "cell_type": "markdown",
   "metadata": {},
   "source": [
    "# KS For Two Samples"
   ]
  },
  {
   "cell_type": "markdown",
   "metadata": {},
   "source": [
    "Given two samples, test if their distributions are the same.Compute the observed cumulative distribution functions of the two samples and compute their maximum difference."
   ]
  },
  {
   "cell_type": "markdown",
   "metadata": {},
   "source": [
    "## Copy From Reference"
   ]
  },
  {
   "cell_type": "code",
   "execution_count": 17,
   "metadata": {},
   "outputs": [
    {
     "data": {
      "text/plain": [
       "array([ 1.2,  1.4,  1.9,  3.7,  4.4,  4.8,  5.6,  6.5,  6.6,  6.9,  9.2,\n",
       "        9.7, 10.4, 10.6, 17.3, 19.3, 21.1, 28.4])"
      ]
     },
     "execution_count": 17,
     "metadata": {},
     "output_type": "execute_result"
    }
   ],
   "source": [
    "x =[1.2, 1.4, 1.9, 3.7, 4.4, 4.8, 9.7, 17.3, 21.1, 28.4]\n",
    "y = [5.6, 6.5, 6.6, 6.9, 9.2, 10.4, 10.6, 19.3]\n",
    "\n",
    "x_y = np.sort(np.concatenate((x, y)))\n",
    "x_y"
   ]
  },
  {
   "cell_type": "code",
   "execution_count": 18,
   "metadata": {},
   "outputs": [],
   "source": [
    "x_cdf = [np.round(st.percentileofscore(x, samp)/100, 1) for samp in x_y]\n",
    "y_cdf = [np.round(st.percentileofscore(y, samp)/100, 1) for samp in x_y]"
   ]
  },
  {
   "cell_type": "code",
   "execution_count": 19,
   "metadata": {},
   "outputs": [
    {
     "data": {
      "image/png": "[encoded data removed]",
      "text/plain": [
       "<Figure size 432x288 with 1 Axes>"
      ]
     },
     "metadata": {
      "needs_background": "light"
     },
     "output_type": "display_data"
    }
   ],
   "source": [
    "plt.plot(x_y, x_cdf, label='x', alpha=0.5, marker='o', color='red')\n",
    "plt.plot(x_y, y_cdf, label='y', alpha=0.5, marker='o', color='green')\n",
    "plt.show()"
   ]
  },
  {
   "cell_type": "code",
   "execution_count": 20,
   "metadata": {},
   "outputs": [
    {
     "data": {
      "text/plain": [
       "array([0.1, 0.2, 0.3, 0.4, 0.5, 0.6, 0.5, 0.4, 0.2, 0.1, 0. , 0.1, 0.1,\n",
       "       0.2, 0.1, 0.2, 0.1, 0. ])"
      ]
     },
     "execution_count": 20,
     "metadata": {},
     "output_type": "execute_result"
    }
   ],
   "source": [
    "abs_diff_example = np.abs(np.subtract(x_cdf, y_cdf))\n",
    "abs_diff_example"
   ]
  },
  {
   "cell_type": "code",
   "execution_count": 21,
   "metadata": {},
   "outputs": [
    {
     "name": "stdout",
     "output_type": "stream",
     "text": [
      "0.6\n"
     ]
    }
   ],
   "source": [
    "print(max(abs_diff_example))"
   ]
  },
  {
   "cell_type": "code",
   "execution_count": 22,
   "metadata": {},
   "outputs": [],
   "source": [
    "def d_crit_two_way(arr1, arr2):\n",
    "    return 1.36*np.sqrt(len(arr1)**-1 + len(arr2)**-1)"
   ]
  },
  {
   "cell_type": "code",
   "execution_count": 23,
   "metadata": {},
   "outputs": [
    {
     "data": {
      "text/plain": [
       "0.6451046426743494"
      ]
     },
     "execution_count": 23,
     "metadata": {},
     "output_type": "execute_result"
    }
   ],
   "source": [
    "d_crit_two_way(x, y)"
   ]
  },
  {
   "cell_type": "code",
   "execution_count": null,
   "metadata": {},
   "outputs": [],
   "source": []
  },
  {
   "cell_type": "markdown",
   "metadata": {},
   "source": [
    "## Try Our Own Sample"
   ]
  },
  {
   "cell_type": "code",
   "execution_count": 24,
   "metadata": {},
   "outputs": [
    {
     "name": "stdout",
     "output_type": "stream",
     "text": [
      "samp_a:\n",
      "[-2.37663656 -2.3123819  -1.69681004 -1.51500335 -1.43035853 -1.33323796\n",
      " -1.28815349 -1.07727442 -1.04564441 -0.74406419 -0.31644158  0.00520677\n",
      "  0.46283907  0.62289336  0.85705136  1.27426432  1.31866267  1.41377034\n",
      "  1.82207843  3.15216013]\n",
      "--------------------\n",
      "samp_b:\n",
      "[ 0.12106151  0.19335024  0.42469192  0.52607435  0.56496553  0.61357584\n",
      "  0.62729404  0.66109922  0.72910111  0.88184722  0.9014013   0.97724675\n",
      "  1.15104594  1.26356342  1.32087963  1.77511159  1.98914734  2.40618938\n",
      "  2.41909492  2.49790893  2.53747231  2.9614306   2.9702626  15.74409697\n",
      " 18.40957817]\n",
      "--------------------\n",
      "samp_conc:\n",
      "[-2.37663656e+00 -2.31238190e+00 -1.69681004e+00 -1.51500335e+00\n",
      " -1.43035853e+00 -1.33323796e+00 -1.28815349e+00 -1.07727442e+00\n",
      " -1.04564441e+00 -7.44064194e-01 -3.16441576e-01  5.20676890e-03\n",
      "  1.21061511e-01  1.93350239e-01  4.24691919e-01  4.62839067e-01\n",
      "  5.26074353e-01  5.64965534e-01  6.13575836e-01  6.22893362e-01\n",
      "  6.27294044e-01  6.61099222e-01  7.29101105e-01  8.57051364e-01\n",
      "  8.81847224e-01  9.01401299e-01  9.77246748e-01  1.15104594e+00\n",
      "  1.26356342e+00  1.27426432e+00  1.31866267e+00  1.32087963e+00\n",
      "  1.41377034e+00  1.77511159e+00  1.82207843e+00  1.98914734e+00\n",
      "  2.40618938e+00  2.41909492e+00  2.49790893e+00  2.53747231e+00\n",
      "  2.96143060e+00  2.97026260e+00  3.15216013e+00  1.57440970e+01\n",
      "  1.84095782e+01]\n"
     ]
    }
   ],
   "source": [
    "#generate random samples from lognormal and sort\n",
    "samp_a = np.sort(np.random.normal(loc=0.0, scale=1.0, size=20))\n",
    "print(\"samp_a:\\n{}\".format(samp_a))\n",
    "print(20*'-')\n",
    "\n",
    "#generate random samples from lognormal and sort\n",
    "samp_b = np.sort(np.random.lognormal(mean=0, sigma=1.0, size=25))\n",
    "print(\"samp_b:\\n{}\".format(samp_b))\n",
    "print(20*'-')\n",
    "\n",
    "#concatenate and sort\n",
    "samp_conc = np.sort(np.concatenate((samp_a, samp_b)))\n",
    "print(\"samp_conc:\\n{}\".format(samp_conc))\n"
   ]
  },
  {
   "cell_type": "code",
   "execution_count": 36,
   "metadata": {},
   "outputs": [
    {
     "name": "stdout",
     "output_type": "stream",
     "text": [
      "samp_a_cdf:\n",
      "[0.0, 0.1, 0.2, 0.2, 0.2, 0.3, 0.4, 0.4, 0.4, 0.5, 0.6, 0.6, 0.6, 0.6, 0.6, 0.6, 0.6, 0.6, 0.6, 0.7, 0.7, 0.7, 0.7, 0.8, 0.8, 0.8, 0.8, 0.8, 0.8, 0.8, 0.8, 0.8, 0.9, 0.9, 1.0, 1.0, 1.0, 1.0, 1.0, 1.0, 1.0, 1.0, 1.0, 1.0, 1.0]\n",
      "--------------------\n",
      "samp_b_cdf:\n",
      "[0.0, 0.0, 0.0, 0.0, 0.0, 0.0, 0.0, 0.0, 0.0, 0.0, 0.0, 0.0, 0.0, 0.1, 0.1, 0.1, 0.2, 0.2, 0.2, 0.2, 0.3, 0.3, 0.4, 0.4, 0.4, 0.4, 0.5, 0.5, 0.6, 0.6, 0.6, 0.6, 0.6, 0.6, 0.6, 0.7, 0.7, 0.8, 0.8, 0.8, 0.9, 0.9, 0.9, 1.0, 1.0]\n",
      "--------------------\n",
      "samp_diff:\n",
      "[0.  0.1 0.2 0.2 0.2 0.3 0.4 0.4 0.4 0.5 0.6 0.6 0.6 0.5 0.5 0.5 0.4 0.4\n",
      " 0.4 0.5 0.4 0.4 0.3 0.4 0.4 0.4 0.3 0.3 0.2 0.2 0.2 0.2 0.3 0.3 0.4 0.3\n",
      " 0.3 0.2 0.2 0.2 0.1 0.1 0.1 0.  0. ]\n"
     ]
    }
   ],
   "source": [
    "#cdf of sample a\n",
    "samp_a_cdf = [np.round(st.percentileofscore(samp_a, value)/100, 1) for value in samp_conc]\n",
    "print('samp_a_cdf:\\n{}'.format(samp_a_cdf))\n",
    "print(20*'-')\n",
    "\n",
    "#cdf of sample b\n",
    "samp_b_cdf = [np.round(st.percentileofscore(samp_b, value)/100, 1) for value in samp_conc]\n",
    "print('samp_b_cdf:\\n{}'.format(samp_b_cdf))\n",
    "print(20*'-')\n",
    "\n",
    "#compute absolute difference\n",
    "samp_diff = np.abs(np.subtract(samp_a_cdf, samp_b_cdf))\n",
    "print('samp_diff:\\n{}'.format(samp_diff))"
   ]
  },
  {
   "cell_type": "code",
   "execution_count": 26,
   "metadata": {},
   "outputs": [
    {
     "name": "stdout",
     "output_type": "stream",
     "text": [
      "0.6\n"
     ]
    }
   ],
   "source": [
    "print(max(samp_diff))"
   ]
  },
  {
   "cell_type": "code",
   "execution_count": 27,
   "metadata": {},
   "outputs": [
    {
     "data": {
      "image/png": "[encoded data removed]",
      "text/plain": [
       "<Figure size 720x360 with 1 Axes>"
      ]
     },
     "metadata": {
      "needs_background": "light"
     },
     "output_type": "display_data"
    }
   ],
   "source": [
    "plt.figure(figsize=(10, 5))\n",
    "plt.plot(samp_conc, samp_a_cdf, label='sample a')\n",
    "plt.plot(samp_conc, samp_b_cdf, label='sample b')\n",
    "\n",
    "for val, p1, p2 in zip(samp_conc, samp_a_cdf, samp_b_cdf):\n",
    "    plt.plot([val, val], [p1, p2], color='green', alpha=0.2)\n",
    "\n",
    "plt.legend()\n",
    "plt.ylabel(\"F(x)\")\n",
    "plt.xlabel('x')\n",
    "plt.title(\"KS Goodness of Fit for 2 Samples\")\n",
    "\n",
    "plt.show()"
   ]
  },
  {
   "cell_type": "code",
   "execution_count": 28,
   "metadata": {},
   "outputs": [
    {
     "data": {
      "text/plain": [
       "0.40800000000000003"
      ]
     },
     "execution_count": 28,
     "metadata": {},
     "output_type": "execute_result"
    }
   ],
   "source": [
    "d_crit_two_way(samp_a, samp_b)"
   ]
  },
  {
   "cell_type": "code",
   "execution_count": null,
   "metadata": {},
   "outputs": [],
   "source": []
  }
 ],
 "metadata": {
  "kernelspec": {
   "display_name": "Python 3",
   "language": "python",
   "name": "python3"
  },
  "language_info": {
   "codemirror_mode": {
    "name": "ipython",
    "version": 3
   },
   "file_extension": ".py",
   "mimetype": "text/x-python",
   "name": "python",
   "nbconvert_exporter": "python",
   "pygments_lexer": "ipython3",
   "version": "3.7.3"
  }
 },
 "nbformat": 4,
 "nbformat_minor": 2
}
