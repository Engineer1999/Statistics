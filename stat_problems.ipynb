{
 "cells": [
  {
   "cell_type": "code",
   "execution_count": 1,
   "metadata": {},
   "outputs": [],
   "source": [
    "import numpy as np\n",
    "import matplotlib.pyplot as plt"
   ]
  },
  {
   "cell_type": "markdown",
   "metadata": {},
   "source": [
    "# German Tank Probem"
   ]
  },
  {
   "cell_type": "markdown",
   "metadata": {},
   "source": [
    "You are a British spy trying to record how many tanks the Germans have. You know that every new tank produced is given a serial number, with the smallest number being 1. So the first tank built has a serial number of 1, the second 2, and so on…\n",
    "\n",
    "\n",
    "You jot down the serial numbers that you spotted. On the way back you get ambushed and lose the information. All you remember is that the smallest number is 22 and the largest is 114.\n",
    "How many tanks do the Germans have?"
   ]
  },
  {
   "cell_type": "code",
   "execution_count": 2,
   "metadata": {},
   "outputs": [],
   "source": [
    "#min and max observed serial numbers\n",
    "min_serial = 22\n",
    "max_serial = 114"
   ]
  },
  {
   "cell_type": "code",
   "execution_count": 10,
   "metadata": {},
   "outputs": [],
   "source": [
    "#store mins and max\n",
    "mins = []\n",
    "maxes = []\n",
    "\n",
    "for _ in range(200_000):\n",
    "    #get random observations\n",
    "    serials = np.random.randint(min_serial, max_serial+1, 20)\n",
    "    #store min and max\n",
    "    mins.append(serials.min())\n",
    "    maxes.append(serials.max())"
   ]
  },
  {
   "cell_type": "code",
   "execution_count": 11,
   "metadata": {},
   "outputs": [
    {
     "data": {
      "image/png": "[encoded data removed]",
      "text/plain": [
       "<Figure size 432x288 with 1 Axes>"
      ]
     },
     "metadata": {
      "needs_background": "light"
     },
     "output_type": "display_data"
    }
   ],
   "source": [
    "plt.hist(mins, alpha=0.5, label = 'mins')\n",
    "plt.hist(maxes, alpha=0.5, label = 'maxes')\n",
    "plt.legend()\n",
    "plt.savefig('plots/tanks_hist_20.png')\n",
    "plt.show()"
   ]
  },
  {
   "cell_type": "markdown",
   "metadata": {},
   "source": [
    "# Wooden Sticks"
   ]
  },
  {
   "cell_type": "markdown",
   "metadata": {},
   "source": [
    "We have a stick make of wood of some random length L. We pick two random points along the length and cut the stick at those points. We now have 3 smaller sticks.\n",
    "What's the probability we can form a triangle from those 3 sticks?"
   ]
  },
  {
   "cell_type": "code",
   "execution_count": 5,
   "metadata": {},
   "outputs": [
    {
     "name": "stdout",
     "output_type": "stream",
     "text": [
      "0.25133\n"
     ]
    }
   ],
   "source": [
    "#number of successes, number of trials\n",
    "success = 0\n",
    "n_trial = 200_000\n",
    "\n",
    "for _ in range(n_trial):\n",
    "    #draw two samples from a uniform distribution\n",
    "    points = np.sort(np.random.uniform(0, 1, 2))\n",
    "    #record location of first point\n",
    "    one = points[0]\n",
    "    #record distance between points\n",
    "    two = points[1] - points[0]\n",
    "    #get the third point\n",
    "    three = 1 - points[1]\n",
    "    \n",
    "    #make sure all points inside the stick\n",
    "    assert one + two + three == 1\n",
    "    \n",
    "    #sort by length\n",
    "    lengths = np.sort([one, two, three])\n",
    "    \n",
    "    #triangle inequality\n",
    "    if ((lengths[0] + lengths[1]) > lengths[2]) and ((lengths[1] + lengths[2]) > lengths[0]):\n",
    "        if (lengths[0] + lengths[2]) > lengths[1]:\n",
    "            success += 1\n",
    "\n",
    "print(success/n_trial)"
   ]
  },
  {
   "cell_type": "markdown",
   "metadata": {},
   "source": [
    "# Loaded Dice"
   ]
  },
  {
   "cell_type": "markdown",
   "metadata": {},
   "source": [
    "A bag contains 9 dice, 8 are fair and one is loaded. The loaded dice will always return a 6.\n",
    "We draw a random dice from the bag, roll it twice and get a 6 both times.\n",
    "What's the chance we picked the loaded dice?"
   ]
  },
  {
   "cell_type": "code",
   "execution_count": 6,
   "metadata": {},
   "outputs": [
    {
     "name": "stdout",
     "output_type": "stream",
     "text": [
      "0.818788462964336\n"
     ]
    }
   ],
   "source": [
    "#record wins by fair and cheating\n",
    "cheat_win = 0\n",
    "fair_win = 0\n",
    "\n",
    "for _ in range(100_000):\n",
    "    #pick random dice from the bag\n",
    "    dice = np.random.randint(1 , 10)\n",
    "    #if cheat count as cheat win\n",
    "    if dice == 1:\n",
    "        cheat_win += 1\n",
    "    #if fair, roll the dice twice\n",
    "    else:\n",
    "        roll = np.random.randint(1, 7, 2)\n",
    "        #report fair wins\n",
    "        if np.array_equal(roll, [6, 6]):\n",
    "            fair_win += 1\n",
    "\n",
    "#get proportion of wins\n",
    "print(cheat_win/(fair_win+cheat_win))"
   ]
  },
  {
   "cell_type": "code",
   "execution_count": null,
   "metadata": {},
   "outputs": [],
   "source": []
  }
 ],
 "metadata": {
  "kernelspec": {
   "display_name": "Python 3",
   "language": "python",
   "name": "python3"
  },
  "language_info": {
   "codemirror_mode": {
    "name": "ipython",
    "version": 3
   },
   "file_extension": ".py",
   "mimetype": "text/x-python",
   "name": "python",
   "nbconvert_exporter": "python",
   "pygments_lexer": "ipython3",
   "version": "3.7.2"
  }
 },
 "nbformat": 4,
 "nbformat_minor": 2
}
